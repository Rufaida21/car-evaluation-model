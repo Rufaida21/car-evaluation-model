{
 "cells": [
  {
   "cell_type": "markdown",
   "id": "216dab9e-7a2c-4730-9a12-7fc7f219142c",
   "metadata": {},
   "source": [
    "## car-evaluation-model\n",
    "\n"
   ]
  },
  {
   "cell_type": "code",
   "execution_count": 1,
   "id": "6a45156f-3358-473c-ba4c-ef019c7d9fc3",
   "metadata": {},
   "outputs": [],
   "source": [
    "# ---------------------------------------------\n",
    "# 1. Import necessary libraries\n",
    "# ---------------------------------------------\n",
    "import pandas as pd\n",
    "import numpy as np\n",
    "from sklearn.model_selection import train_test_split\n",
    "from sklearn.preprocessing import LabelEncoder, StandardScaler\n",
    "from sklearn.tree import DecisionTreeClassifier\n",
    "from sklearn.ensemble import RandomForestClassifier\n",
    "from sklearn.svm import SVC\n",
    "from xgboost import XGBClassifier\n",
    "from sklearn.metrics import accuracy_score, classification_report, confusion_matrix\n",
    "from imblearn.over_sampling import SMOTE\n",
    "import matplotlib.pyplot as plt\n",
    "import seaborn as sns\n",
    "import joblib\n"
   ]
  },
  {
   "cell_type": "code",
   "execution_count": 2,
   "id": "f1a16c89-95ab-4980-bbbc-d8ee17781c5f",
   "metadata": {},
   "outputs": [
    {
     "name": "stdout",
     "output_type": "stream",
     "text": [
      "  buying  maint doors persons lug_boot safety  class\n",
      "0  vhigh  vhigh     2       2    small    low  unacc\n",
      "1  vhigh  vhigh     2       2    small    med  unacc\n",
      "2  vhigh  vhigh     2       2    small   high  unacc\n",
      "3  vhigh  vhigh     2       2      med    low  unacc\n",
      "4  vhigh  vhigh     2       2      med    med  unacc\n"
     ]
    }
   ],
   "source": [
    "# ---------------------------------------------\n",
    "# 2. Load and display dataset\n",
    "# ---------------------------------------------\n",
    "column_names = ['buying', 'maint', 'doors', 'persons', 'lug_boot', 'safety', 'class']\n",
    "df = pd.read_csv('car.data', names=column_names)\n",
    "print(df.head())\n"
   ]
  },
  {
   "cell_type": "code",
   "execution_count": 3,
   "id": "7efe2ff0-0f37-41ed-a6b1-f950dd62545e",
   "metadata": {},
   "outputs": [],
   "source": [
    "# ---------------------------------------------\n",
    "# 3. Encode categorical features\n",
    "# ---------------------------------------------\n",
    "le = LabelEncoder()\n",
    "for col in df.columns:\n",
    "    df[col] = le.fit_transform(df[col])\n"
   ]
  },
  {
   "cell_type": "code",
   "execution_count": 4,
   "id": "ad727dee-f31a-43b3-88a0-0fcc24421cfe",
   "metadata": {},
   "outputs": [],
   "source": [
    "# ---------------------------------------------\n",
    "# 4. Split data into features and target\n",
    "# ---------------------------------------------\n",
    "X = df.drop('class', axis=1)\n",
    "y = df['class']\n"
   ]
  },
  {
   "cell_type": "code",
   "execution_count": 5,
   "id": "442d2bea-20e3-421f-8783-89235ac41539",
   "metadata": {},
   "outputs": [],
   "source": [
    "# ---------------------------------------------\n",
    "# 5. Split into training and testing sets (stratified)\n",
    "# ---------------------------------------------\n",
    "X_train, X_test, y_train, y_test = train_test_split(\n",
    "    X, y, test_size=0.2, random_state=42, stratify=y\n",
    ")\n"
   ]
  },
  {
   "cell_type": "code",
   "execution_count": 6,
   "id": "fb066145-2a48-4006-98ff-85a3d8896d99",
   "metadata": {},
   "outputs": [
    {
     "name": "stdout",
     "output_type": "stream",
     "text": [
      "class\n",
      "0    968\n",
      "2    968\n",
      "1    968\n",
      "3    968\n",
      "Name: count, dtype: int64\n"
     ]
    }
   ],
   "source": [
    "# ---------------------------------------------\n",
    "# 6. Handle class imbalance using SMOTE\n",
    "# ---------------------------------------------\n",
    "smote = SMOTE(random_state=42)\n",
    "X_train_res, y_train_res = smote.fit_resample(X_train, y_train)\n",
    "print(y_train_res.value_counts())  # Check new class distribution\n"
   ]
  },
  {
   "cell_type": "code",
   "execution_count": 7,
   "id": "3540554f-9c14-4fcb-a6ce-c53386263832",
   "metadata": {},
   "outputs": [
    {
     "name": "stdout",
     "output_type": "stream",
     "text": [
      "Decision Tree Accuracy: 0.9595375722543352\n",
      "\n",
      "Classification Report:\n",
      "               precision    recall  f1-score   support\n",
      "\n",
      "           0       0.90      0.94      0.92        77\n",
      "           1       0.92      0.79      0.85        14\n",
      "           2       0.98      0.99      0.98       242\n",
      "           3       1.00      0.77      0.87        13\n",
      "\n",
      "    accuracy                           0.96       346\n",
      "   macro avg       0.95      0.87      0.90       346\n",
      "weighted avg       0.96      0.96      0.96       346\n",
      "\n",
      "\n",
      "Confusion Matrix:\n",
      " [[ 72   0   5   0]\n",
      " [  3  11   0   0]\n",
      " [  3   0 239   0]\n",
      " [  2   1   0  10]]\n"
     ]
    }
   ],
   "source": [
    "# ---------------------------------------------\n",
    "# 7. Train and evaluate Decision Tree\n",
    "# ---------------------------------------------\n",
    "dt_model = DecisionTreeClassifier(random_state=42)\n",
    "dt_model.fit(X_train_res, y_train_res)\n",
    "y_pred_dt = dt_model.predict(X_test)\n",
    "\n",
    "print(\"Decision Tree Accuracy:\", accuracy_score(y_test, y_pred_dt))\n",
    "print(\"\\nClassification Report:\\n\", classification_report(y_test, y_pred_dt))\n",
    "print(\"\\nConfusion Matrix:\\n\", confusion_matrix(y_test, y_pred_dt))\n"
   ]
  },
  {
   "cell_type": "code",
   "execution_count": 8,
   "id": "22784f63-1cb2-4bcd-b7f6-1f03d4ddcd37",
   "metadata": {},
   "outputs": [
    {
     "name": "stdout",
     "output_type": "stream",
     "text": [
      "Random Forest Accuracy: 0.9682080924855492\n",
      "\n",
      "Classification Report:\n",
      "               precision    recall  f1-score   support\n",
      "\n",
      "           0       0.89      0.97      0.93        77\n",
      "           1       0.92      0.79      0.85        14\n",
      "           2       1.00      0.98      0.99       242\n",
      "           3       1.00      0.85      0.92        13\n",
      "\n",
      "    accuracy                           0.97       346\n",
      "   macro avg       0.95      0.90      0.92       346\n",
      "weighted avg       0.97      0.97      0.97       346\n",
      "\n",
      "\n",
      "Confusion Matrix:\n",
      " [[ 75   1   1   0]\n",
      " [  3  11   0   0]\n",
      " [  4   0 238   0]\n",
      " [  2   0   0  11]]\n"
     ]
    }
   ],
   "source": [
    "# ---------------------------------------------\n",
    "# 8. Train and evaluate Random Forest\n",
    "# ---------------------------------------------\n",
    "rf_model = RandomForestClassifier(random_state=42)\n",
    "rf_model.fit(X_train_res, y_train_res)\n",
    "y_pred_rf = rf_model.predict(X_test)\n",
    "\n",
    "print(\"Random Forest Accuracy:\", accuracy_score(y_test, y_pred_rf))\n",
    "print(\"\\nClassification Report:\\n\", classification_report(y_test, y_pred_rf))\n",
    "print(\"\\nConfusion Matrix:\\n\", confusion_matrix(y_test, y_pred_rf))\n"
   ]
  },
  {
   "cell_type": "code",
   "execution_count": 9,
   "id": "b063ed59-2b4e-4856-84fb-9c6b116544de",
   "metadata": {},
   "outputs": [
    {
     "name": "stdout",
     "output_type": "stream",
     "text": [
      "XGBoost Accuracy: 0.9797687861271677\n",
      "\n",
      "Classification Report:\n",
      "               precision    recall  f1-score   support\n",
      "\n",
      "           0       0.93      0.99      0.96        77\n",
      "           1       0.92      0.79      0.85        14\n",
      "           2       1.00      0.99      1.00       242\n",
      "           3       1.00      0.92      0.96        13\n",
      "\n",
      "    accuracy                           0.98       346\n",
      "   macro avg       0.96      0.92      0.94       346\n",
      "weighted avg       0.98      0.98      0.98       346\n",
      "\n",
      "\n",
      "Confusion Matrix:\n",
      " [[ 76   1   0   0]\n",
      " [  3  11   0   0]\n",
      " [  2   0 240   0]\n",
      " [  1   0   0  12]]\n"
     ]
    }
   ],
   "source": [
    "# ---------------------------------------------\n",
    "# 9. Train and evaluate XGBoost\n",
    "# ---------------------------------------------\n",
    "xgb_model = XGBClassifier(random_state=42)\n",
    "xgb_model.fit(X_train_res, y_train_res)\n",
    "y_pred_xgb = xgb_model.predict(X_test)\n",
    "\n",
    "print(\"XGBoost Accuracy:\", accuracy_score(y_test, y_pred_xgb))\n",
    "print(\"\\nClassification Report:\\n\", classification_report(y_test, y_pred_xgb))\n",
    "print(\"\\nConfusion Matrix:\\n\", confusion_matrix(y_test, y_pred_xgb))\n"
   ]
  },
  {
   "cell_type": "code",
   "execution_count": 10,
   "id": "bed3a735-bec1-43ee-a5c0-98f8c46534a9",
   "metadata": {},
   "outputs": [
    {
     "name": "stdout",
     "output_type": "stream",
     "text": [
      "SVM Accuracy: 0.9710982658959537\n",
      "\n",
      "Classification Report:\n",
      "               precision    recall  f1-score   support\n",
      "\n",
      "           0       0.89      0.99      0.94        77\n",
      "           1       0.93      1.00      0.97        14\n",
      "           2       1.00      0.96      0.98       242\n",
      "           3       1.00      1.00      1.00        13\n",
      "\n",
      "    accuracy                           0.97       346\n",
      "   macro avg       0.96      0.99      0.97       346\n",
      "weighted avg       0.97      0.97      0.97       346\n",
      "\n",
      "\n",
      "Confusion Matrix:\n",
      " [[ 76   1   0   0]\n",
      " [  0  14   0   0]\n",
      " [  9   0 233   0]\n",
      " [  0   0   0  13]]\n"
     ]
    }
   ],
   "source": [
    "# ---------------------------------------------\n",
    "# 10. Train and evaluate SVM\n",
    "# ---------------------------------------------\n",
    "svm_model = SVC(random_state=42)\n",
    "svm_model.fit(X_train_res, y_train_res)\n",
    "y_pred_svm = svm_model.predict(X_test)\n",
    "\n",
    "print(\"SVM Accuracy:\", accuracy_score(y_test, y_pred_svm))\n",
    "print(\"\\nClassification Report:\\n\", classification_report(y_test, y_pred_svm))\n",
    "print(\"\\nConfusion Matrix:\\n\", confusion_matrix(y_test, y_pred_svm))\n"
   ]
  },
  {
   "cell_type": "code",
   "execution_count": 11,
   "id": "e145d10e-40a0-4160-9e25-62abd9184614",
   "metadata": {},
   "outputs": [
    {
     "data": {
      "image/png": "[encoded data removed]",
      "text/plain": [
       "<Figure size 800x600 with 2 Axes>"
      ]
     },
     "metadata": {},
     "output_type": "display_data"
    }
   ],
   "source": [
    "# ---------------------------------------------\n",
    "# 11. Visualize confusion matrix (example: Decision Tree)\n",
    "# ---------------------------------------------\n",
    "cm = confusion_matrix(y_test, y_pred_dt)\n",
    "plt.figure(figsize=(8, 6))\n",
    "sns.heatmap(cm, annot=True, fmt='d', cmap='Blues', \n",
    "            xticklabels=['0', '1', '2', '3'], \n",
    "            yticklabels=['0', '1', '2', '3'])\n",
    "plt.title('Confusion Matrix - Decision Tree')\n",
    "plt.xlabel('Predicted Labels')\n",
    "plt.ylabel('True Labels')\n",
    "plt.show()\n"
   ]
  },
  {
   "cell_type": "code",
   "execution_count": 12,
   "id": "30cc92e6-c15c-46a5-850b-42a0622480f5",
   "metadata": {},
   "outputs": [
    {
     "data": {
      "text/plain": [
       "['svm_model.pkl']"
      ]
     },
     "execution_count": 12,
     "metadata": {},
     "output_type": "execute_result"
    }
   ],
   "source": [
    "# ---------------------------------------------\n",
    "# 12. Save models using Joblib\n",
    "# ---------------------------------------------\n",
    "joblib.dump(dt_model, \"decision_tree_model.pkl\")\n",
    "joblib.dump(rf_model, \"random_forest_model.pkl\")\n",
    "joblib.dump(xgb_model, \"xgboost_model.pkl\")\n",
    "joblib.dump(svm_model, \"svm_model.pkl\")\n"
   ]
  },
  {
   "cell_type": "code",
   "execution_count": null,
   "id": "dbe0894c-02d1-41b9-9a38-97dc03ec50fa",
   "metadata": {},
   "outputs": [],
   "source": []
  }
 ],
 "metadata": {
  "kernelspec": {
   "display_name": "Python 3 (ipykernel)",
   "language": "python",
   "name": "python3"
  },
  "language_info": {
   "codemirror_mode": {
    "name": "ipython",
    "version": 3
   },
   "file_extension": ".py",
   "mimetype": "text/x-python",
   "name": "python",
   "nbconvert_exporter": "python",
   "pygments_lexer": "ipython3",
   "version": "3.13.1"
  }
 },
 "nbformat": 4,
 "nbformat_minor": 5
}
